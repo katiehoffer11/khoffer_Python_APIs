{
 "cells": [
  {
   "cell_type": "code",
   "execution_count": 1,
   "metadata": {},
   "outputs": [],
   "source": [
    "# Dependencies\n",
    "import os\n",
    "import tweepy\n",
    "import json\n",
    "import pandas as pd\n",
    "#import numpy as np\n",
    "import matplotlib.pyplot as plt\n",
    "\n",
    "# Import and Initialize Sentiment Analyzer\n",
    "from vaderSentiment.vaderSentiment import SentimentIntensityAnalyzer\n",
    "analyzer = SentimentIntensityAnalyzer()"
   ]
  },
  {
   "cell_type": "code",
   "execution_count": 2,
   "metadata": {},
   "outputs": [],
   "source": [
    "# Navigate to config file\n",
    "\n",
    "orig_working_directory = os.getcwd()\n",
    "os.chdir(os.path.join('..','..'))\n",
    "curr_working_directory = os.getcwd()\n",
    "os.getcwd()\n",
    "\n",
    "from config import consumer_key, consumer_secret, access_token, access_token_secret"
   ]
  },
  {
   "cell_type": "code",
   "execution_count": 3,
   "metadata": {},
   "outputs": [],
   "source": [
    "# Setup Tweepy API Authentication\n",
    "auth = tweepy.OAuthHandler(consumer_key, consumer_secret)\n",
    "auth.set_access_token(access_token, access_token_secret)\n",
    "api = tweepy.API(auth)"
   ]
  },
  {
   "cell_type": "markdown",
   "metadata": {},
   "source": [
    "Your final output should provide a visualized summary of the sentiments expressed in Tweets sent out by the following news organizations: BBC, CBS, CNN, Fox, and New York times."
   ]
  },
  {
   "cell_type": "code",
   "execution_count": 4,
   "metadata": {},
   "outputs": [],
   "source": [
    "#Set news accounts to pull tweets from\n",
    "news_accounts = ['BBC','CBS','CNN','Fox','nytimes']\n",
    "\n",
    "tweets = []\n",
    "accounts = []\n",
    "counts = []\n",
    "\n",
    "\n",
    "#loop through each account\n",
    "for account in news_accounts:\n",
    "\n",
    "    #reset count to zero\n",
    "    count = 0\n",
    "    \n",
    "    #Loop through last 100 tweets\n",
    "    for tweet in tweepy.Cursor(api.user_timeline, account, tweet_mode='extended').items(100):\n",
    "        accounts.append(account)\n",
    "        tweets.append(tweet)\n",
    "        \n",
    "        #use count to figure out latest vs 100th tweet\n",
    "        count = count + 1\n",
    "        counts.append(count)\n"
   ]
  },
  {
   "cell_type": "code",
   "execution_count": 5,
   "metadata": {},
   "outputs": [],
   "source": [
    "tweet_id = []\n",
    "created_at = []\n",
    "full_text = []\n",
    "compound = []\n",
    "positive = []\n",
    "negative = []\n",
    "neutral = []\n",
    "\n",
    "# Loop through tweets list\n",
    "for tweet in tweets:\n",
    "    \n",
    "    # Run Vader Analysis on each tweet\n",
    "    sentiment_results = analyzer.polarity_scores(tweet.full_text)\n",
    "    comp = sentiment_results['compound']\n",
    "    pos = sentiment_results['pos']\n",
    "    neg = sentiment_results['neg']\n",
    "    neu = sentiment_results['neu']\n",
    "    \n",
    "    # Add each value lists set above\n",
    "    tweet_id.append(tweet.id)\n",
    "    created_at.append(tweet.created_at)\n",
    "    full_text.append(tweet.full_text)\n",
    "    compound.append(comp)\n",
    "    positive.append(pos)\n",
    "    negative.append(neg)\n",
    "    neutral.append(neu)\n",
    "    \n",
    "    "
   ]
  },
  {
   "cell_type": "code",
   "execution_count": 6,
   "metadata": {},
   "outputs": [
    {
     "data": {
      "text/html": [
       "<div>\n",
       "<style scoped>\n",
       "    .dataframe tbody tr th:only-of-type {\n",
       "        vertical-align: middle;\n",
       "    }\n",
       "\n",
       "    .dataframe tbody tr th {\n",
       "        vertical-align: top;\n",
       "    }\n",
       "\n",
       "    .dataframe thead th {\n",
       "        text-align: right;\n",
       "    }\n",
       "</style>\n",
       "<table border=\"1\" class=\"dataframe\">\n",
       "  <thead>\n",
       "    <tr style=\"text-align: right;\">\n",
       "      <th></th>\n",
       "      <th>user_name</th>\n",
       "      <th>Tweet ID</th>\n",
       "      <th>Tweet Time</th>\n",
       "      <th>Tweet Text</th>\n",
       "      <th>Compound</th>\n",
       "      <th>positive</th>\n",
       "      <th>negative</th>\n",
       "      <th>neutral</th>\n",
       "      <th>Count</th>\n",
       "    </tr>\n",
       "  </thead>\n",
       "  <tbody>\n",
       "    <tr>\n",
       "      <td>0</td>\n",
       "      <td>BBC</td>\n",
       "      <td>1264224821493157890</td>\n",
       "      <td>2020-05-23 16:01:00</td>\n",
       "      <td>#FindingDory = perfect weekend film!   🙌🐠\\n\\n6...</td>\n",
       "      <td>0.6114</td>\n",
       "      <td>0.174</td>\n",
       "      <td>0.000</td>\n",
       "      <td>0.826</td>\n",
       "      <td>1</td>\n",
       "    </tr>\n",
       "    <tr>\n",
       "      <td>1</td>\n",
       "      <td>BBC</td>\n",
       "      <td>1264209722007343104</td>\n",
       "      <td>2020-05-23 15:01:00</td>\n",
       "      <td>We hope this brings you some much needed tranq...</td>\n",
       "      <td>0.8074</td>\n",
       "      <td>0.249</td>\n",
       "      <td>0.000</td>\n",
       "      <td>0.751</td>\n",
       "      <td>2</td>\n",
       "    </tr>\n",
       "    <tr>\n",
       "      <td>2</td>\n",
       "      <td>BBC</td>\n",
       "      <td>1264179523194703872</td>\n",
       "      <td>2020-05-23 13:01:00</td>\n",
       "      <td>\"If any good can come of me sharing my experie...</td>\n",
       "      <td>0.7184</td>\n",
       "      <td>0.245</td>\n",
       "      <td>0.096</td>\n",
       "      <td>0.660</td>\n",
       "      <td>3</td>\n",
       "    </tr>\n",
       "    <tr>\n",
       "      <td>3</td>\n",
       "      <td>BBC</td>\n",
       "      <td>1264176066379296768</td>\n",
       "      <td>2020-05-23 12:47:16</td>\n",
       "      <td>RT @BBCTheOneShow: In support of #MentalHealth...</td>\n",
       "      <td>0.4019</td>\n",
       "      <td>0.172</td>\n",
       "      <td>0.000</td>\n",
       "      <td>0.828</td>\n",
       "      <td>4</td>\n",
       "    </tr>\n",
       "    <tr>\n",
       "      <td>4</td>\n",
       "      <td>BBC</td>\n",
       "      <td>1264164423763025920</td>\n",
       "      <td>2020-05-23 12:01:00</td>\n",
       "      <td>Israeli investors develop face mask with remot...</td>\n",
       "      <td>0.0000</td>\n",
       "      <td>0.000</td>\n",
       "      <td>0.000</td>\n",
       "      <td>1.000</td>\n",
       "      <td>5</td>\n",
       "    </tr>\n",
       "  </tbody>\n",
       "</table>\n",
       "</div>"
      ],
      "text/plain": [
       "  user_name             Tweet ID          Tweet Time  \\\n",
       "0       BBC  1264224821493157890 2020-05-23 16:01:00   \n",
       "1       BBC  1264209722007343104 2020-05-23 15:01:00   \n",
       "2       BBC  1264179523194703872 2020-05-23 13:01:00   \n",
       "3       BBC  1264176066379296768 2020-05-23 12:47:16   \n",
       "4       BBC  1264164423763025920 2020-05-23 12:01:00   \n",
       "\n",
       "                                          Tweet Text  Compound  positive  \\\n",
       "0  #FindingDory = perfect weekend film!   🙌🐠\\n\\n6...    0.6114     0.174   \n",
       "1  We hope this brings you some much needed tranq...    0.8074     0.249   \n",
       "2  \"If any good can come of me sharing my experie...    0.7184     0.245   \n",
       "3  RT @BBCTheOneShow: In support of #MentalHealth...    0.4019     0.172   \n",
       "4  Israeli investors develop face mask with remot...    0.0000     0.000   \n",
       "\n",
       "   negative  neutral  Count  \n",
       "0     0.000    0.826      1  \n",
       "1     0.000    0.751      2  \n",
       "2     0.096    0.660      3  \n",
       "3     0.000    0.828      4  \n",
       "4     0.000    1.000      5  "
      ]
     },
     "execution_count": 6,
     "metadata": {},
     "output_type": "execute_result"
    }
   ],
   "source": [
    "#Create dataframe\n",
    "tweets_df = pd.DataFrame({\n",
    "    'user_name': accounts,\n",
    "    'Tweet ID': tweet_id,\n",
    "    'Tweet Time': created_at,\n",
    "    'Tweet Text': full_text,  \n",
    "    'Compound': compound,\n",
    "    'positive': positive,\n",
    "    'negative': negative,\n",
    "    'neutral': neutral, \n",
    "    'Count': counts\n",
    "    })\n",
    "\n",
    "tweets_df.head()"
   ]
  },
  {
   "cell_type": "markdown",
   "metadata": {},
   "source": [
    "The first plot will be and/or feature the following:\n",
    "\n",
    "-Be a scatter plot of sentiments of the last 100 tweets sent out by each news organization, ranging from -1.0 to 1.0, where a score of 0 expresses a neutral sentiment, -1 the most negative sentiment possible, and +1 the most positive sentiment possible.\n",
    "\n",
    "-Each plot point will reflect the compound sentiment of a tweet.\n",
    "\n",
    "-Sort each plot point by its relative timestamp."
   ]
  },
  {
   "cell_type": "code",
   "execution_count": 7,
   "metadata": {},
   "outputs": [
    {
     "data": {
      "image/png": "[encoded data removed]",
      "text/plain": [
       "<Figure size 792x432 with 1 Axes>"
      ]
     },
     "metadata": {
      "needs_background": "light"
     },
     "output_type": "display_data"
    }
   ],
   "source": [
    "fig, ax = plt.subplots(figsize=(11,6))\n",
    "\n",
    "for x,y in tweets_df.groupby('user_name'):\n",
    "    ax.scatter(y['Count'], y['Compound'], label=x)\n",
    "\n",
    "plt.legend(loc='center left', bbox_to_anchor=(1.0, 0.5), title='Media Source')\n",
    "ax.grid()   \n",
    "plt.title(\"Sentiment Analysis of Media Tweets\")\n",
    "plt.xlabel(\"Tweets Ago\")\n",
    "plt.ylabel(\"Tweet Polarity\")\n",
    "plt.tight_layout()\n",
    "   \n",
    "      \n",
    "plt.savefig(\"Tweet_Polarity_Scatter.png\")\n",
    "plt.show()"
   ]
  },
  {
   "cell_type": "markdown",
   "metadata": {},
   "source": [
    "The second plot will be a bar plot visualizing the overall sentiments of the last 100 tweets from each organization. For this plot, you will again aggregate the compound sentiments analyzed by VADER."
   ]
  },
  {
   "cell_type": "code",
   "execution_count": 8,
   "metadata": {},
   "outputs": [
    {
     "data": {
      "text/html": [
       "<div>\n",
       "<style scoped>\n",
       "    .dataframe tbody tr th:only-of-type {\n",
       "        vertical-align: middle;\n",
       "    }\n",
       "\n",
       "    .dataframe tbody tr th {\n",
       "        vertical-align: top;\n",
       "    }\n",
       "\n",
       "    .dataframe thead th {\n",
       "        text-align: right;\n",
       "    }\n",
       "</style>\n",
       "<table border=\"1\" class=\"dataframe\">\n",
       "  <thead>\n",
       "    <tr style=\"text-align: right;\">\n",
       "      <th></th>\n",
       "      <th>user_name</th>\n",
       "      <th>Compound</th>\n",
       "    </tr>\n",
       "  </thead>\n",
       "  <tbody>\n",
       "    <tr>\n",
       "      <td>0</td>\n",
       "      <td>BBC</td>\n",
       "      <td>0.310002</td>\n",
       "    </tr>\n",
       "    <tr>\n",
       "      <td>1</td>\n",
       "      <td>CBS</td>\n",
       "      <td>0.269797</td>\n",
       "    </tr>\n",
       "    <tr>\n",
       "      <td>2</td>\n",
       "      <td>CNN</td>\n",
       "      <td>0.030487</td>\n",
       "    </tr>\n",
       "    <tr>\n",
       "      <td>3</td>\n",
       "      <td>Fox</td>\n",
       "      <td>0.215978</td>\n",
       "    </tr>\n",
       "    <tr>\n",
       "      <td>4</td>\n",
       "      <td>nytimes</td>\n",
       "      <td>-0.050024</td>\n",
       "    </tr>\n",
       "  </tbody>\n",
       "</table>\n",
       "</div>"
      ],
      "text/plain": [
       "  user_name  Compound\n",
       "0       BBC  0.310002\n",
       "1       CBS  0.269797\n",
       "2       CNN  0.030487\n",
       "3       Fox  0.215978\n",
       "4   nytimes -0.050024"
      ]
     },
     "execution_count": 8,
     "metadata": {},
     "output_type": "execute_result"
    }
   ],
   "source": [
    "#Create new dataframe that groups original dataframe by username and average \"Compound\"\n",
    "grouped_by_user = tweets_df.groupby(['user_name'])\n",
    "user_avg_compound = grouped_by_user['Compound'].mean()\n",
    "\n",
    "user_avg_compound = user_avg_compound.to_frame()\n",
    "user_avg_compound = user_avg_compound.reset_index()\n",
    "user_avg_compound"
   ]
  },
  {
   "cell_type": "code",
   "execution_count": 9,
   "metadata": {},
   "outputs": [
    {
     "data": {
      "image/png": "[encoded data removed]",
      "text/plain": [
       "<Figure size 648x432 with 1 Axes>"
      ]
     },
     "metadata": {
      "needs_background": "light"
     },
     "output_type": "display_data"
    }
   ],
   "source": [
    "fig, ax = plt.subplots(figsize=(9,6))\n",
    "barlist = plt.bar(user_avg_compound['user_name'], user_avg_compound['Compound']) \n",
    "barlist = barlist[0].set_color('g'), barlist[1].set_color('lightblue'), barlist[2].set_color('r'), barlist[3].set_color('gold')\n",
    "\n",
    "plt.title(f\"Overall Media Sentiment based on Twitter\")\n",
    "plt.ylabel(\"Tweet Polarity\")\n",
    "plt.tight_layout()  \n",
    "\n",
    "plt.savefig(\"User_Sentiment.png\")\n",
    "plt.show()   "
   ]
  },
  {
   "cell_type": "markdown",
   "metadata": {},
   "source": [
    "#Include a written description of three observable trends based on the data.\n",
    "\n",
    "1) On average BBC's tweets are the most positive when looking at the last 100 tweets from 5/23/2020\n",
    "2) One average NY Time's tweets are the most negative when looking at the last 100 tweets from 5/23/2020\n",
    "3) When looking at all five news sources there are more positive tweets than negative when looking at the last 100 tweets from 5/23/2020"
   ]
  }
 ],
 "metadata": {
  "kernelspec": {
   "display_name": "Python 3",
   "language": "python",
   "name": "python3"
  },
  "language_info": {
   "codemirror_mode": {
    "name": "ipython",
    "version": 3
   },
   "file_extension": ".py",
   "mimetype": "text/x-python",
   "name": "python",
   "nbconvert_exporter": "python",
   "pygments_lexer": "ipython3",
   "version": "3.7.4"
  }
 },
 "nbformat": 4,
 "nbformat_minor": 2
}
